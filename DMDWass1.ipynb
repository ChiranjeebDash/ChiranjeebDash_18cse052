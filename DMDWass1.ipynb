{
  "nbformat": 4,
  "nbformat_minor": 0,
  "metadata": {
    "colab": {
      "name": "DMDWass1.ipynb",
      "provenance": [],
      "authorship_tag": "ABX9TyPybyosRLyldT4NF/UjW4fG",
      "include_colab_link": true
    },
    "kernelspec": {
      "name": "python3",
      "display_name": "Python 3"
    }
  },
  "cells": [
    {
      "cell_type": "markdown",
      "metadata": {
        "id": "view-in-github",
        "colab_type": "text"
      },
      "source": [
        "<a href=\"https://colab.research.google.com/github/ChiranjeebDash/ChiranjeebDash_18cse052/blob/main/DMDWass1.ipynb\" target=\"_parent\"><img src=\"https://colab.research.google.com/assets/colab-badge.svg\" alt=\"Open In Colab\"/></a>"
      ]
    },
    {
      "cell_type": "code",
      "metadata": {
        "colab": {
          "base_uri": "https://localhost:8080/"
        },
        "id": "zX_EteAh4NKw",
        "outputId": "87184858-b8d8-48d3-c796-62807d6e8749"
      },
      "source": [
        "n_num = [1, 2, 3, 4, 5]\n",
        "n=len(n_num)\n",
        "s=sum(n_num)\n",
        "mean=s/n\n",
        "print(\"Mean is\",mean)"
      ],
      "execution_count": 1,
      "outputs": [
        {
          "output_type": "stream",
          "text": [
            "Mean is 3.0\n"
          ],
          "name": "stdout"
        }
      ]
    },
    {
      "cell_type": "code",
      "metadata": {
        "colab": {
          "base_uri": "https://localhost:8080/"
        },
        "id": "iBQ2OtO74j3T",
        "outputId": "434bda5b-124e-45ee-80be-4daa57aa9c3a"
      },
      "source": [
        "n_num = [1, 2, 3, 4, 5]\n",
        "n=len(n_num)\n",
        "n_num.sort()\n",
        "if n%2==0:\n",
        "  m1=n_num[n//2]\n",
        "  m2=n_num[n//2-1]\n",
        "  median=(m1+m2)/2\n",
        "else:\n",
        "  median=n_num[n//2]\n",
        "print(\"Median is\",median)"
      ],
      "execution_count": 2,
      "outputs": [
        {
          "output_type": "stream",
          "text": [
            "Median is 3\n"
          ],
          "name": "stdout"
        }
      ]
    },
    {
      "cell_type": "code",
      "metadata": {
        "colab": {
          "base_uri": "https://localhost:8080/"
        },
        "id": "xHf0Nc2B4kVA",
        "outputId": "ae6d0443-c221-4b43-c6fa-c3628aeb60f2"
      },
      "source": [
        "from collections import Counter \n",
        "\n",
        "n_num = [1, 2, 3, 4, 5, 5] \n",
        "n = len(n_num) \n",
        "  \n",
        "data = Counter(n_num) \n",
        "get_mode = dict(data) \n",
        "mode = [k for k, v in get_mode.items() if v == max(list(data.values()))] \n",
        "  \n",
        "if len(mode) == n: \n",
        "    get_mode = \"No mode found\"\n",
        "else: \n",
        "    get_mode = \"Mode is / are: \" + ', '.join(map(str, mode)) \n",
        "      \n",
        "print(get_mode)"
      ],
      "execution_count": 3,
      "outputs": [
        {
          "output_type": "stream",
          "text": [
            "Mode is / are: 5\n"
          ],
          "name": "stdout"
        }
      ]
    },
    {
      "cell_type": "code",
      "metadata": {
        "colab": {
          "base_uri": "https://localhost:8080/"
        },
        "id": "SLushVLE41_Q",
        "outputId": "3f1daba1-815f-4d94-a155-32ac98e6d2cd"
      },
      "source": [
        "def variance(data):\n",
        "     n = len(data)\n",
        "     mean = sum(data) / n\n",
        "     deviations = [(x - mean) ** 2 for x in data]\n",
        "     variance = sum(deviations) / (n-1)\n",
        "     return variance\n",
        "variance([4, 8, 6, 5, 3, 2, 8, 9, 2, 5])"
      ],
      "execution_count": 4,
      "outputs": [
        {
          "output_type": "execute_result",
          "data": {
            "text/plain": [
              "6.4"
            ]
          },
          "metadata": {
            "tags": []
          },
          "execution_count": 4
        }
      ]
    },
    {
      "cell_type": "code",
      "metadata": {
        "colab": {
          "base_uri": "https://localhost:8080/"
        },
        "id": "FLfZDG7342Ok",
        "outputId": "b2c5d06d-56a8-410b-c7f6-09a2eff6da67"
      },
      "source": [
        "import math\n",
        "def variance(data):\n",
        "     n = len(data)\n",
        "     mean = sum(data) / n\n",
        "     return sum((x - mean) ** 2 for x in data) / (n -1)\n",
        "\n",
        "\n",
        "def stdev(data):\n",
        "     var = variance(data)\n",
        "     std_dev = math.sqrt(var)\n",
        "     return std_dev\n",
        "stdev([4, 8, 6, 5, 3, 2, 8, 9, 2, 5])"
      ],
      "execution_count": 5,
      "outputs": [
        {
          "output_type": "execute_result",
          "data": {
            "text/plain": [
              "2.5298221281347035"
            ]
          },
          "metadata": {
            "tags": []
          },
          "execution_count": 5
        }
      ]
    },
    {
      "cell_type": "code",
      "metadata": {
        "colab": {
          "base_uri": "https://localhost:8080/"
        },
        "id": "vyIiRSuL5GKf",
        "outputId": "93776aa2-830d-4cb1-c8d8-b0960548af7d"
      },
      "source": [
        "L = [1, \"a\" , \"string\" , 1+2] \n",
        "print (L) \n",
        "L.append(6) \n",
        "print (L)\n",
        "L.pop() \n",
        "print (L) \n",
        "print (L[1])"
      ],
      "execution_count": 6,
      "outputs": [
        {
          "output_type": "stream",
          "text": [
            "[1, 'a', 'string', 3]\n",
            "[1, 'a', 'string', 3, 6]\n",
            "[1, 'a', 'string', 3]\n",
            "a\n"
          ],
          "name": "stdout"
        }
      ]
    },
    {
      "cell_type": "code",
      "metadata": {
        "colab": {
          "base_uri": "https://localhost:8080/"
        },
        "id": "0LU_Bsvu5GX3",
        "outputId": "4479889a-c7f6-4525-adca-fd4bd46d2b88"
      },
      "source": [
        "tup = (1, \"a\", \"string\", 1+2) \n",
        "print(tup) \n",
        "print(tup[1])"
      ],
      "execution_count": 7,
      "outputs": [
        {
          "output_type": "stream",
          "text": [
            "(1, 'a', 'string', 3)\n",
            "a\n"
          ],
          "name": "stdout"
        }
      ]
    },
    {
      "cell_type": "code",
      "metadata": {
        "colab": {
          "base_uri": "https://localhost:8080/"
        },
        "id": "zrQ3g29o5GjH",
        "outputId": "1381f5a9-6c5f-40ba-ea10-4279fe8399b8"
      },
      "source": [
        "month={1:'JAN',2:'FEB',3:'MAR',4:'APR',5:'MAY',6:'JUNE',7:'JULY',8:'AUG',9:'SEP',10:'OCT',11:'NOV',12:'DEC'}\n",
        "print(month[1],month[3])\n",
        "print(month)"
      ],
      "execution_count": 8,
      "outputs": [
        {
          "output_type": "stream",
          "text": [
            "JAN MAR\n",
            "{1: 'JAN', 2: 'FEB', 3: 'MAR', 4: 'APR', 5: 'MAY', 6: 'JUNE', 7: 'JULY', 8: 'AUG', 9: 'SEP', 10: 'OCT', 11: 'NOV', 12: 'DEC'}\n"
          ],
          "name": "stdout"
        }
      ]
    }
  ]
}